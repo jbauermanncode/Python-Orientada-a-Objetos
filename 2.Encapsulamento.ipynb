{
 "cells": [
  {
   "cell_type": "markdown",
   "metadata": {},
   "source": [
    "# Encapsulamento"
   ]
  },
  {
   "cell_type": "markdown",
   "metadata": {},
   "source": [
    "    * Na terminologia da orientação a objetos, diz- se\n",
    "    que um objeto possui uma interface\n",
    "\n",
    "    * A interface de um objeto é como ele aparece para\n",
    "    os demais objetos:\n",
    "        - Suas características, sem detalhes internos\n",
    "\n",
    "    * A interface de um objeto define os serviços que ele\n",
    "    pode realizar e consequentemente as mensagens que ele\n",
    "    recebe\n",
    "        - Um objeto é \"visto\" através de seus métodos\n",
    "    \n",
    "    Exemplo de Interface:\n",
    "\n",
    "    \n",
    "<img src=\"Exemplo_Interface.jpg\" width=75%>\n",
    "\n",
    "\n",
    "    * Encapsulamento é a proteção dos atributos ou métodos\n",
    "    de uma classe.\n",
    "\n",
    "    * Em Python existem somente o public e o private e eles são definidos\n",
    "    no próprio nome do atributo ou método.\n",
    "\n",
    "    * Atributos ou métodos iniciados por no máximo dois sublinhados(underline)\n",
    "    são privados e todas as outras formas são públicas\n",
    "\n"
   ]
  },
  {
   "cell_type": "markdown",
   "metadata": {},
   "source": [
    "## Exemplos"
   ]
  },
  {
   "cell_type": "code",
   "execution_count": 1,
   "metadata": {},
   "outputs": [],
   "source": [
    "class Teste1:\n",
    "\n",
    "    a = 1 # atributo publico\n",
    "    __b = 2 # atributo privado da classe Teste1"
   ]
  },
  {
   "cell_type": "code",
   "execution_count": 2,
   "metadata": {},
   "outputs": [
    {
     "name": "stdout",
     "output_type": "stream",
     "text": [
      "1\n"
     ]
    }
   ],
   "source": [
    "t1 = Teste1()\n",
    "print(t1.a)"
   ]
  },
  {
   "cell_type": "code",
   "execution_count": 3,
   "metadata": {},
   "outputs": [],
   "source": [
    "class Teste2(Teste1):\n",
    "\n",
    "    __c = 3 # atributo privado da classe Teste2\n",
    "\n",
    "    def __init__(self):\n",
    "        print(self.a)\n",
    "        print(self.__c)"
   ]
  },
  {
   "cell_type": "code",
   "execution_count": 4,
   "metadata": {},
   "outputs": [
    {
     "name": "stdout",
     "output_type": "stream",
     "text": [
      "1\n",
      "3\n"
     ]
    }
   ],
   "source": [
    "t2 = Teste2()"
   ]
  },
  {
   "cell_type": "code",
   "execution_count": 5,
   "metadata": {},
   "outputs": [],
   "source": [
    "#print(t2.__b) #Erro, pois __b é privado a classe Teste1"
   ]
  },
  {
   "cell_type": "code",
   "execution_count": 6,
   "metadata": {},
   "outputs": [],
   "source": [
    "#print(t2.__c) #Erro, __c é um atributo privado, somente acessado pela classe\n"
   ]
  },
  {
   "cell_type": "markdown",
   "metadata": {},
   "source": [
    "# Get e Set"
   ]
  },
  {
   "cell_type": "markdown",
   "metadata": {},
   "source": [
    "    - O que são?\n",
    "    - Pra que servem"
   ]
  },
  {
   "cell_type": "markdown",
   "metadata": {},
   "source": [
    "## Exemplo - Cenário 1"
   ]
  },
  {
   "cell_type": "code",
   "execution_count": 1,
   "metadata": {},
   "outputs": [],
   "source": [
    "class Pessoa:\n",
    "    cpf = None\n",
    "\n",
    "    def __init__(self, cpf):\n",
    "        ..."
   ]
  },
  {
   "cell_type": "markdown",
   "metadata": {},
   "source": [
    "## Cenário 1"
   ]
  },
  {
   "cell_type": "markdown",
   "metadata": {},
   "source": [
    "<img src=\"get_e_set_exemplo_cenario1.jpg\" width=75%>\n",
    "\n",
    "\n",
    "    - Mudou a forma de atualizar o cpf!\n",
    "    - E agora?\n",
    "        - Atualizar todos os projetos envolvidos"
   ]
  },
  {
   "cell_type": "markdown",
   "metadata": {},
   "source": [
    "## Cenário 2"
   ]
  },
  {
   "cell_type": "markdown",
   "metadata": {},
   "source": [
    "<img src=\"get_e_set_exemplo_cenario2.jpg\" width=75%>\n",
    "\n",
    "\n",
    "    - Mudou a forma de atualizar o cpf!\n",
    "    - E agora?\n",
    "        - Atualiza apenas o método setcpf."
   ]
  },
  {
   "cell_type": "code",
   "execution_count": 2,
   "metadata": {},
   "outputs": [],
   "source": [
    "# Cenario 2\n",
    "\n",
    "class Pessoa:\n",
    "    cpf = None\n",
    "\n",
    "    def __init__(self, cpf):\n",
    "        ...\n",
    "\n",
    "    def __valida_cpf(self,valor):\n",
    "        ...\n",
    "\n",
    "    def set_cpf(self,valor):\n",
    "        if self.__valida_cpf(valor):\n",
    "            self.cpf = valor\n",
    "        else:\n",
    "            print('CPF inválido')\n",
    "        "
   ]
  },
  {
   "cell_type": "markdown",
   "metadata": {},
   "source": [
    "## Getters"
   ]
  },
  {
   "cell_type": "markdown",
   "metadata": {},
   "source": [
    "    Getters nos dão um dado. A forma mais aproximada de nomear os métodos seria\n",
    "    usando o nome get.\n",
    "\n",
    "            def get_saldo(self):\n",
    "                return self.__saldo\n",
    "            \n",
    "            def get_titular(self):\n",
    "                return self.__titular\n",
    "                "
   ]
  },
  {
   "cell_type": "markdown",
   "metadata": {},
   "source": [
    "## Setters"
   ]
  },
  {
   "cell_type": "markdown",
   "metadata": {},
   "source": [
    "    Os métodos que modificam são chamados de setters. Nós já temos métodos para acessar saldo,\n",
    "    mas ainda temos que criar as formas de trabalhar com limite. O objetivo é podermos aumentar\n",
    "    o limite por meio de set_limite().\n",
    "\n",
    "            conta.set_limite(10000.0)\n",
    "\n",
    "    Este é o método com que definiremos um novo limite. A seguir, vamos definir o método set_limite(),\n",
    "    para qual, além do self, passaremos limite como parâmetro:\n",
    "\n",
    "            def set_limite(self, limite):\n",
    "                self.__limite = limite\n"
   ]
  },
  {
   "cell_type": "markdown",
   "metadata": {},
   "source": [
    "## Exemplo"
   ]
  },
  {
   "cell_type": "code",
   "execution_count": 3,
   "metadata": {},
   "outputs": [],
   "source": [
    "class Conta:\n",
    "\n",
    "    def __init__(self, saldo, titular, limite):\n",
    "        self.__saldo = saldo\n",
    "        self.__titular = titular\n",
    "        self.__limite = limite\n",
    "\n",
    "    def get_saldo(self):\n",
    "        return self.__saldo\n",
    "\n",
    "    def get_titular(self):\n",
    "        return self.__titular\n",
    "\n",
    "    def get_limite(self):\n",
    "        return self.__limite\n",
    "\n",
    "    def set_limite(self, limite):\n",
    "        self.__limite = limite"
   ]
  },
  {
   "cell_type": "code",
   "execution_count": 4,
   "metadata": {},
   "outputs": [
    {
     "name": "stdout",
     "output_type": "stream",
     "text": [
      "Titular: Rafael \n",
      " Saldo: 20.00 \n",
      " Limite: 1000\n",
      "\n",
      "####################\n",
      "\n",
      "Titular: Rafael \n",
      " Saldo: 20.00 \n",
      " Limite: 2000\n"
     ]
    }
   ],
   "source": [
    "conta = Conta(20.00, 'Rafael', 1000)\n",
    "\n",
    "print(f'Titular: {conta.get_titular()} \\n Saldo: {conta.get_saldo():.2f} \\n Limite: {conta.get_limite()}')\n",
    "\n",
    "print('\\n'+'#'*20 +'\\n')\n",
    "\n",
    "conta.set_limite(2000)\n",
    "\n",
    "print(f'Titular: {conta.get_titular()} \\n Saldo: {conta.get_saldo():.2f} \\n Limite: {conta.get_limite()}')"
   ]
  },
  {
   "cell_type": "markdown",
   "metadata": {},
   "source": [
    "# Properties"
   ]
  },
  {
   "cell_type": "markdown",
   "metadata": {},
   "source": [
    "<img src=\"Properties.jpg\" width=75%>"
   ]
  },
  {
   "cell_type": "code",
   "execution_count": 14,
   "metadata": {},
   "outputs": [],
   "source": [
    "class C(object):\n",
    "    def __init__(self):\n",
    "        self.__x = 0\n",
    "\n",
    "    def getx(self):\n",
    "        return self.__x\n",
    "\n",
    "    def setx(self, valor):\n",
    "        if valor >= 0:\n",
    "            self.__x = valor\n",
    "        else:\n",
    "            self.__x = 0\n",
    "\n",
    "    x = property(getx, setx)"
   ]
  },
  {
   "cell_type": "code",
   "execution_count": 15,
   "metadata": {},
   "outputs": [
    {
     "name": "stdout",
     "output_type": "stream",
     "text": [
      "10\n",
      "0\n"
     ]
    }
   ],
   "source": [
    "a = C()\n",
    "a.x = 10\n",
    "print(a.x)\n",
    "a.x = -10\n",
    "print(a.x)"
   ]
  },
  {
   "cell_type": "markdown",
   "metadata": {},
   "source": [
    "    Na Linguagem Python, os métodos que dão acesso são nomeados como properties.\n",
    "    Desta forma, indicaremos para o Python nossa intenção de ter acesso ao objeto.\n",
    "    A declaração de uma property é feita como uso do caractere @\n",
    "\n",
    "        @property\n",
    "\n",
    "    Com isto, indicaremos que este método representa uma propriedade - um termo já recorrente em outras linguagens. Com @property, indicaremos que estamos trabalhando com uma propriedade. Faremos isso com o método nome().\n",
    "\n",
    "        @property\n",
    "        def nome(self):\n",
    "            return self.aluno.title()\n"
   ]
  },
  {
   "cell_type": "code",
   "execution_count": 48,
   "metadata": {},
   "outputs": [],
   "source": [
    "class Nome(object):\n",
    "\n",
    "    def __init__(self, aluno):\n",
    "        self.aluno = aluno\n",
    "\n",
    "    @property\n",
    "    def nome(self):\n",
    "        return self.aluno.title()\n",
    "\n",
    "    @nome.setter\n",
    "    def nome(self, aluno):\n",
    "        print(\"chamando setter aluno()\")\n",
    "        self.__aluno = aluno"
   ]
  },
  {
   "cell_type": "markdown",
   "metadata": {},
   "source": [
    "    Agora, quando digitarmos no console aluno.nome, sem a adição dos parênteses, consiguiremos que o método seja executado como antes"
   ]
  },
  {
   "cell_type": "code",
   "execution_count": 46,
   "metadata": {},
   "outputs": [
    {
     "data": {
      "text/plain": [
       "'João'"
      ]
     },
     "execution_count": 46,
     "metadata": {},
     "output_type": "execute_result"
    }
   ],
   "source": [
    "aluno = Nome('João')\n",
    "aluno.nome"
   ]
  },
  {
   "cell_type": "markdown",
   "metadata": {},
   "source": [
    "    Tornaremos privado o atributo aluno que será antecedido por __."
   ]
  },
  {
   "cell_type": "code",
   "execution_count": 90,
   "metadata": {},
   "outputs": [],
   "source": [
    "class Nome(object):\n",
    "\n",
    "    def __init__(self, aluno):\n",
    "        self.__aluno = aluno\n",
    "\n",
    "    @property\n",
    "    def nome(self):\n",
    "        return self.__aluno.title()\n",
    "\n",
    "    @nome.setter\n",
    "    def nome(self, aluno):\n",
    "        self.__aluno = aluno\n",
    "\n",
    "    @nome.getter\n",
    "    def nome(self):\n",
    "\n",
    "        print(\"chamando setter aluno()\")\n",
    "        return self.__aluno.title()"
   ]
  },
  {
   "cell_type": "code",
   "execution_count": 94,
   "metadata": {},
   "outputs": [
    {
     "name": "stdout",
     "output_type": "stream",
     "text": [
      "chamando setter aluno()\n"
     ]
    },
    {
     "data": {
      "text/plain": [
       "'Pedro'"
      ]
     },
     "execution_count": 94,
     "metadata": {},
     "output_type": "execute_result"
    }
   ],
   "source": [
    "aluno = Nome('João')\n",
    "aluno.nome = 'Pedro'\n",
    "\n",
    "aluno.nome"
   ]
  },
  {
   "cell_type": "markdown",
   "metadata": {},
   "source": [
    "# Atributos"
   ]
  },
  {
   "cell_type": "markdown",
   "metadata": {},
   "source": [
    "## Atributos Estáticos"
   ]
  },
  {
   "cell_type": "markdown",
   "metadata": {},
   "source": [
    "    - Atributos que compartilham o mesmo valor para todos os objetos da classe."
   ]
  },
  {
   "cell_type": "markdown",
   "metadata": {},
   "source": [
    " Atributos da Classe"
   ]
  },
  {
   "cell_type": "code",
   "execution_count": 102,
   "metadata": {},
   "outputs": [],
   "source": [
    "class Funcionario:\n",
    "\n",
    "    contador_func = 0\n",
    "\n",
    "    def __init__(self, nome, salario):\n",
    "        self.nome = nome\n",
    "        self.salario = salario\n",
    "        Funcionario.contador_func += 1\n",
    "\n",
    "    def mostra_contador(self):\n",
    "        print(\"Total Funcionarios: %d\" % Funcionario.contador_func)"
   ]
  },
  {
   "cell_type": "code",
   "execution_count": 103,
   "metadata": {},
   "outputs": [
    {
     "name": "stdout",
     "output_type": "stream",
     "text": [
      "Total Funcionarios: 2\n"
     ]
    }
   ],
   "source": [
    "emp1 = Funcionario('Katarina', 2000)\n",
    "emp2 = Funcionario('Garen', 5000)\n",
    "\n",
    "emp1.mostra_contador()"
   ]
  },
  {
   "cell_type": "markdown",
   "metadata": {},
   "source": [
    "## Atributos Privados"
   ]
  },
  {
   "cell_type": "markdown",
   "metadata": {},
   "source": [
    "    Ao usar o prefixo __ no nome do atributo o Python dá um nome diferente para o atributo da classe alterando em todos os lugares. O atributo recebe o nome da classe como prefixo.\n",
    "\n",
    "        Exemplo:\n",
    "            conta._Conta__saldo"
   ]
  },
  {
   "cell_type": "markdown",
   "metadata": {},
   "source": [
    " Veja a classe Retangulo abaixo:"
   ]
  },
  {
   "cell_type": "code",
   "execution_count": 105,
   "metadata": {},
   "outputs": [],
   "source": [
    "class Retangulo:\n",
    "\n",
    "    def __init__(self, x, y):\n",
    "        self.__x = x\n",
    "        self.__y = y\n",
    "        self.__area = x*y\n",
    "\n",
    "    def obter_area(self):\n",
    "        return self.__area"
   ]
  },
  {
   "cell_type": "markdown",
   "metadata": {},
   "source": [
    "    Assumindo que a classe foi carregada corretamente podemos executar o seguinte código:"
   ]
  },
  {
   "cell_type": "code",
   "execution_count": 111,
   "metadata": {},
   "outputs": [
    {
     "data": {
      "text/plain": [
       "12"
      ]
     },
     "execution_count": 111,
     "metadata": {},
     "output_type": "execute_result"
    }
   ],
   "source": [
    "r = Retangulo(2, 6)\n",
    "r.area = 7\n",
    "r.obter_area()"
   ]
  },
  {
   "cell_type": "markdown",
   "metadata": {},
   "source": [
    "# Métodos "
   ]
  },
  {
   "cell_type": "markdown",
   "metadata": {},
   "source": [
    "## Métodos Privados"
   ]
  },
  {
   "cell_type": "markdown",
   "metadata": {},
   "source": [
    "    Métodos Privados são métodos que só podem ser utilizados dentro da classe onde são criados. Para deixar o método privado devemos adicionar __ . "
   ]
  },
  {
   "cell_type": "markdown",
   "metadata": {},
   "source": [
    " Exemplo"
   ]
  },
  {
   "cell_type": "code",
   "execution_count": 112,
   "metadata": {},
   "outputs": [],
   "source": [
    "def __pode_sacar(self, valor_a_sacar):\n",
    "    valor_disponivel_para_sacar = self.__saldo + self.limite\n",
    "    return valor_a_sacar <= valor_disponivel_para_sacar\n",
    "\n",
    "def saca(self, valor):\n",
    "    if(self.__pode_sacar(valor)):\n",
    "        if(self.__pode_sacar(valor)):\n",
    "            self.__saldo -= valor\n",
    "        else:\n",
    "            print(f'O valor {valor} passou o limite.')"
   ]
  },
  {
   "cell_type": "markdown",
   "metadata": {},
   "source": [
    "    O método __pode_sacar() foi criado para ser executado apenas dentro da classe, por isso, o caractere undescore foi adicionado dentro do if também."
   ]
  },
  {
   "cell_type": "markdown",
   "metadata": {},
   "source": [
    "## Métodos Estáticos"
   ]
  },
  {
   "cell_type": "markdown",
   "metadata": {},
   "source": [
    "    Para chamar um método, sem precisar chamar um objeto devemos remover o self do método.\n",
    "    Esses métodos que conseguimos chamar sem uma referência recebem o nome de estáticos, porque eles fazem parte da classe. Todas as linguagens orientadas a objeto trabalham com métodos estáticos, mas para que eles sejam utilizados, iremos configurar os métodos, fica inapropriado usar property, porque ele sempre precisa do self. A configuração correta será @staticmethod.\n",
    "\n",
    "            @staticmethod\n",
    "            def codigo_branco():\n",
    "                return '001'"
   ]
  },
  {
   "cell_type": "markdown",
   "metadata": {},
   "source": [
    "## Métodos de Classe"
   ]
  },
  {
   "cell_type": "markdown",
   "metadata": {},
   "source": [
    "    São métodos declarados com @classmethod. Quando criamos um método de classe, temos acesso aos atributos da classe. Da mesma forma com os atributos de classe, podemos acessar estes métodos de dentro dos métodos de dentro dos métodos de instância, a partir de __class__, se desejarmos:\n",
    "\n",
    "            class Funcionario:\n",
    "                prefixo = 'Instrutor'\n",
    "\n",
    "                @classmethod\n",
    "                def info(cls):\n",
    "                    return f'Esse é um {cls.prefixo}'\n",
    "\n",
    "    Perceba que, ao invés de self, passamos cls para o método, já que neste caso sempre recebemos uma instância da classe como primeiro argumento. O nome cls é uma convenção, assim como self.\n",
    "                "
   ]
  },
  {
   "cell_type": "markdown",
   "metadata": {},
   "source": [
    "# Alguns Métodos e Atributos especiais nativos"
   ]
  },
  {
   "cell_type": "markdown",
   "metadata": {},
   "source": [
    "## Membros Nativos"
   ]
  },
  {
   "cell_type": "markdown",
   "metadata": {},
   "source": [
    "    * As classes contêm métodos e atributos especiais que são incluidos por Python mesmo se você não os defina explicitamnente.\n",
    "        - Todos os membros nativos tem 2 underscores ao redor dos nomes: __init__, __doc__"
   ]
  },
  {
   "cell_type": "markdown",
   "metadata": {},
   "source": [
    "Ex"
   ]
  },
  {
   "cell_type": "markdown",
   "metadata": {},
   "source": [
    "    * __repr__ existe para todas as classes e você pode sempre redefiní-lo.\n",
    "\n",
    "    * A definição deste método especifica como tornar a instância de uma classe em uma string.\n",
    "        - print f chama f.__repr__() para chamar a representação em string do objeto f\n",
    "\n",
    "    * Você pode rederfinir estes métodos também:\n",
    "        - __init__ : O construtor da classe\n",
    "        - __cmp__ : Define como == funciona para a classe\n",
    "        - __len__ : Define como len(obj) funciona\n",
    "        - __copy__ : Define como copiar uma classe"
   ]
  },
  {
   "cell_type": "markdown",
   "metadata": {},
   "source": [
    "Exemplo"
   ]
  },
  {
   "cell_type": "code",
   "execution_count": 132,
   "metadata": {},
   "outputs": [],
   "source": [
    "class Carro:\n",
    "\n",
    "    def __init__(self, nr):\n",
    "        self.__nrodas = nr\n",
    "\n",
    "    def __add__(self, car):\n",
    "        return self.__nrodas + car.get_nr()\n",
    "\n",
    "    def __repr__(self):\n",
    "        return 'Eu sou um carro de %d rodas!' % self.__nrodas\n",
    "\n",
    "    def __cmp__(self, car):\n",
    "        return cmp(self.__nrodas, car.get_nr())\n",
    "\n",
    "    def get_nr(self):\n",
    "        return self.__nrodas"
   ]
  },
  {
   "cell_type": "code",
   "execution_count": 133,
   "metadata": {},
   "outputs": [],
   "source": [
    "a = Carro(4)\n",
    "b = Carro(6)"
   ]
  },
  {
   "cell_type": "code",
   "execution_count": 134,
   "metadata": {},
   "outputs": [
    {
     "data": {
      "text/plain": [
       "False"
      ]
     },
     "execution_count": 134,
     "metadata": {},
     "output_type": "execute_result"
    }
   ],
   "source": [
    "a == b"
   ]
  },
  {
   "cell_type": "code",
   "execution_count": 136,
   "metadata": {},
   "outputs": [
    {
     "name": "stdout",
     "output_type": "stream",
     "text": [
      "Eu sou um carro de 4 rodas!\n",
      "Eu sou um carro de 6 rodas!\n"
     ]
    }
   ],
   "source": [
    "print(a)\n",
    "print(b)"
   ]
  },
  {
   "cell_type": "code",
   "execution_count": null,
   "metadata": {},
   "outputs": [],
   "source": []
  }
 ],
 "metadata": {
  "interpreter": {
   "hash": "916dbcbb3f70747c44a77c7bcd40155683ae19c65e1c03b4aa3499c5328201f1"
  },
  "kernelspec": {
   "display_name": "Python 3.8.10 64-bit",
   "language": "python",
   "name": "python3"
  },
  "language_info": {
   "codemirror_mode": {
    "name": "ipython",
    "version": 3
   },
   "file_extension": ".py",
   "mimetype": "text/x-python",
   "name": "python",
   "nbconvert_exporter": "python",
   "pygments_lexer": "ipython3",
   "version": "3.8.10"
  },
  "orig_nbformat": 4
 },
 "nbformat": 4,
 "nbformat_minor": 2
}
