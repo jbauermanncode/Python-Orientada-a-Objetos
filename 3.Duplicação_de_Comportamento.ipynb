{
 "cells": [
  {
   "cell_type": "markdown",
   "metadata": {},
   "source": [
    "# Duplicação de Comportamento"
   ]
  },
  {
   "cell_type": "markdown",
   "metadata": {},
   "source": [
    "    A seguir faremos o reuso de código por meio de herança. Vamos abstrair. Trabalharemos com dois conceitos:\n",
    "\n",
    "        Filme                               Série\n",
    "         - nome                              - nome\n",
    "         - ano                               - ano\n",
    "         - duração                           - temporadas\n",
    "         - likes                             - likes\n",
    "\n",
    "    Quando pensamos em herança, pensamos em uma pessoa mais velha que vai deixar bens ou transmitir dados genéticos. Usaremos essa ideia para classes, pois estamos pensando em Filme e Série, cujos comportamentos têm algumas semelhanças. Se tivéssemos uma classe mais genérica com estes mesmos comportamentos, as duas poderiam aproveitar os dados em comum.\n",
    "\n",
    "    Precisamos criar uma classe que representará a ideia genérica e podemos, por exemplo chamá- la de Programa em referência a programas de TV. Todo programa de TV terá nome, ano e likes. As duas classes também possuem informações mais específicas que pertencem somente a cada uma delas. A herança na verdade é uma ligação que essas classes terão, e que vão representar que Filme contém informações do programa, porque ele herdará Programa. Da mesma forma, Serie terá informações do mesmo.\n",
    "\n",
    "    Ainda assim, não conseguiremos ver isso. Veremos como resolveremos isso no código Python. Se esta abstração está criando uma classe, teremos que adicionar class Programa com informações bastante parecidas com Filme e Serie. Para isto, analisaremos o que as duas têm em comum. Veremos que será necessário termos um construtor com um __init__ parecido por conter as propriedades like e nome, repetidas nas duas classes.\n",
    "\n",
    "    Vamos tentar reduzir o código colocando- as em um único lugar, no caso, na classe Programa.\n"
   ]
  },
  {
   "cell_type": "markdown",
   "metadata": {},
   "source": [
    "Classe Programa:"
   ]
  },
  {
   "cell_type": "code",
   "execution_count": 1,
   "metadata": {},
   "outputs": [],
   "source": [
    "class Programa:\n",
    "\n",
    "    def __init__(self,nome,ano):\n",
    "        self.__nome = nome.title()\n",
    "        self.ano = ano\n",
    "        self.__like = 0\n",
    "\n",
    "    @property\n",
    "    def likes(self):\n",
    "        return self.__like\n",
    "\n",
    "    def dar_likes(self):\n",
    "        self.__like += 1\n",
    "\n",
    "    @property\n",
    "    def nome(self):\n",
    "        return self.__nome\n",
    "\n",
    "    @nome.setter\n",
    "    def nome(self,novo_nome):\n",
    "        self.__nome = novo_nome.title()"
   ]
  },
  {
   "cell_type": "markdown",
   "metadata": {},
   "source": [
    "    A diferença é que Programa só tem nome e ano, e a duração não existe no programa de TV, porque a classe terá informações genéricas. No entanto, isto deixa class Filme vazia. Os atributos like e nome funcionarão de forma muito similar.\n",
    "\n",
    "    File não poderá ficar vazia, porque ela deve ter um construtor diferenciado, sendo necessário apresentar duracao. O que diferencia o filme de uma serie ou de um programa de TV em geral é a duração. Por isso, vamos adicionar duracao."
   ]
  },
  {
   "cell_type": "code",
   "execution_count": 2,
   "metadata": {},
   "outputs": [],
   "source": [
    "class Filme:\n",
    "\n",
    "    def __init__(self,nome,ano,duracao):\n",
    "        self.__nome = nome.title()\n",
    "        self.ano =ano\n",
    "        self.duracao = duracao\n",
    "        self.__likes = 0"
   ]
  },
  {
   "cell_type": "markdown",
   "metadata": {},
   "source": [
    "    Desta vez teremos a comparação, e falta limparmos as informações que não ficarão mais na série. Nós vamos compartilhar as informações entre programa e as classes filhas. Para isto, adicionaremos parênteses depois das mesmas e dentro delas, especificaremos o nome da classe mãe Programa."
   ]
  },
  {
   "cell_type": "code",
   "execution_count": 3,
   "metadata": {},
   "outputs": [],
   "source": [
    "class Filme(Programa):\n",
    "\n",
    "    def __init__(self,nome,ano,duracao):\n",
    "        self.__nome = nome.title()\n",
    "        self.ano =ano\n",
    "        self.duracao = duracao\n",
    "        self.__likes = 0"
   ]
  },
  {
   "cell_type": "code",
   "execution_count": 4,
   "metadata": {},
   "outputs": [],
   "source": [
    "class Serie(Programa):\n",
    "\n",
    "    def __init__(self,nome,ano,temporadas):\n",
    "        self.__nome = nome.title()\n",
    "        self.ano =ano\n",
    "        self.temporadas = temporadas\n",
    "        self.__likes = 0"
   ]
  },
  {
   "cell_type": "markdown",
   "metadata": {},
   "source": [
    "    Quando se usa dois underscores __ isso será transformado em uma outra variável, e esta ação recebe o nome de name mangling\n",
    "\n",
    "    No entanto, essa abordagem acaba recebendo algumas ressalvas e podemos evitar deixar o atributo privado. Dependendo da situação, o caso pode ficar muito complexo; uma melhor opção é usar simplesmente um _(Underscore), assim oferecemos a ideia de protegido, sem fazermos o name mangling. Por convenção, quando criamos uma variável, esperamos que ela não seja alterada depois. Ela estará protegida - mas reforçando, apenas por convenção.\n",
    "\n",
    "    Nós podemos usar a variável _nome da mesma forma que __nome, mas agora deixaremos de receber o problema anterior ao executarmos. Faremos um teste removendo um dos underscores de todas as variáveis protegidas anteriormente:\n",
    "\n",
    "            @property\n",
    "            def nome(self):\n",
    "                return self._nome\n",
    "\n",
    "            @nome.setter\n",
    "            def nome(self, novo_nome):\n",
    "                self._nome = novo_nome.title()\n",
    "\n",
    "    Faremos isso com todos os pontos do código onde usamos os dois underscores(__)."
   ]
  },
  {
   "cell_type": "code",
   "execution_count": 5,
   "metadata": {},
   "outputs": [],
   "source": [
    "class Programa:\n",
    "\n",
    "    def __init__(self,nome,ano):\n",
    "        self._nome = nome.title()\n",
    "        self.ano = ano\n",
    "        self._like = 0\n",
    "\n",
    "    @property\n",
    "    def likes(self):\n",
    "        return self._like\n",
    "\n",
    "    def dar_likes(self):\n",
    "        self._like += 1\n",
    "\n",
    "    @property\n",
    "    def nome(self):\n",
    "        return self._nome\n",
    "\n",
    "    @nome.setter\n",
    "    def nome(self,novo_nome):\n",
    "        self._nome = novo_nome.title()"
   ]
  },
  {
   "cell_type": "code",
   "execution_count": 6,
   "metadata": {},
   "outputs": [],
   "source": [
    "class Filme(Programa):\n",
    "\n",
    "    def __init__(self,nome,ano,duracao):\n",
    "        self._nome = nome.title()\n",
    "        self.ano =ano\n",
    "        self.duracao = duracao\n",
    "        self._likes = 0"
   ]
  },
  {
   "cell_type": "code",
   "execution_count": 7,
   "metadata": {},
   "outputs": [],
   "source": [
    "class Serie(Programa):\n",
    "\n",
    "    def __init__(self,nome,ano,temporadas):\n",
    "        self._nome = nome.title()\n",
    "        self.ano =ano\n",
    "        self.temporadas = temporadas\n",
    "        self._likes = 0"
   ]
  },
  {
   "cell_type": "markdown",
   "metadata": {},
   "source": [
    "    Existe uma funcionalidade chamada superclasse. Quando formos criar nosso objeto do tipo Filme, na verdade já teremos criado um tipo Programa. O que faremos é modificá-lo para que ele se pareça mais com Filme.\n",
    "\n",
    "    O código referente a _nome, _likes e ano não será mais necessário, uma vez que serão feitos na classe mãe, já que trata-se de informações comuns. Manteremos apenas duracao, e chamaremos a classe mãe, a partir da qual queremos chamar o seu inicializador, com __init__. A única diferença aqui é que não estamos declarando-o, então não é necessário passar o self. O código ficará da seguinte forma:"
   ]
  },
  {
   "cell_type": "code",
   "execution_count": 8,
   "metadata": {},
   "outputs": [],
   "source": [
    "class Filme(Programa):\n",
    "\n",
    "    def __init__(self,nome,ano,duracao):\n",
    "        super().__init__(nome, ano)\n",
    "        self.duracao = duracao"
   ]
  },
  {
   "cell_type": "code",
   "execution_count": 9,
   "metadata": {},
   "outputs": [],
   "source": [
    "class Serie(Programa):\n",
    "\n",
    "    def __init__(self,nome,ano,temporadas):\n",
    "        super().__init__(nome, ano)\n",
    "        self.temporadas = temporadas"
   ]
  },
  {
   "cell_type": "markdown",
   "metadata": {},
   "source": [
    "    Se quiséssemos criar algo específico para Filme, como um cadastro diferenciado, por exemplo, uma função para o retorno deste cadastro seria:\n",
    "\n",
    "            def retorna_cadastro_diferenciado(self):\n",
    "                pass"
   ]
  },
  {
   "cell_type": "code",
   "execution_count": null,
   "metadata": {},
   "outputs": [],
   "source": []
  }
 ],
 "metadata": {
  "interpreter": {
   "hash": "916dbcbb3f70747c44a77c7bcd40155683ae19c65e1c03b4aa3499c5328201f1"
  },
  "kernelspec": {
   "display_name": "Python 3.8.10 64-bit",
   "language": "python",
   "name": "python3"
  },
  "language_info": {
   "codemirror_mode": {
    "name": "ipython",
    "version": 3
   },
   "file_extension": ".py",
   "mimetype": "text/x-python",
   "name": "python",
   "nbconvert_exporter": "python",
   "pygments_lexer": "ipython3",
   "version": "3.8.10"
  },
  "orig_nbformat": 4
 },
 "nbformat": 4,
 "nbformat_minor": 2
}
