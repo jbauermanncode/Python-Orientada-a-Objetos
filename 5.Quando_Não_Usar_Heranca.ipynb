{
 "cells": [
  {
   "cell_type": "code",
   "execution_count": 1,
   "metadata": {},
   "outputs": [],
   "source": [
    "class Programa:\n",
    "    def __init__(self, nome, ano):\n",
    "        self._nome = nome.title()\n",
    "        self.ano = ano\n",
    "        self._likes = 0\n",
    "\n",
    "    @property\n",
    "    def likes(self):\n",
    "        return self._likes\n",
    "\n",
    "    def dar_likes(self):\n",
    "        self._likes += 1\n",
    "\n",
    "    @property\n",
    "    def nome(self):\n",
    "        return self._nome\n",
    "\n",
    "    @nome.setter\n",
    "    def nome(self, nome):\n",
    "        self._nome = nome\n",
    "\n",
    "    def __str__(self):\n",
    "        return f'Nome: {self.nome} Likes: {self.likes}'"
   ]
  },
  {
   "cell_type": "code",
   "execution_count": 2,
   "metadata": {},
   "outputs": [],
   "source": [
    "class Filme(Programa):\n",
    "    def __init__(self, nome, ano, duracao):\n",
    "        super().__init__(nome, ano)\n",
    "        self.duracao = duracao\n",
    "    \n",
    "    def __str__(self):\n",
    "        return f'Nome: {self.nome} - {self.duracao} min - Likes: {self.likes}'"
   ]
  },
  {
   "cell_type": "code",
   "execution_count": 3,
   "metadata": {},
   "outputs": [],
   "source": [
    "class Serie(Programa):\n",
    "    def __init__(self, nome, ano, temporadas):\n",
    "        super().__init__(nome, ano)\n",
    "        self.temporadas = temporadas\n",
    "\n",
    "    def __str__(self):\n",
    "        return f'Nome: {self.nome} - {self.temporadas} temporadas - Likes: {self.likes}'"
   ]
  },
  {
   "cell_type": "markdown",
   "metadata": {},
   "source": [
    "    Para criarmos uma playlist com nome, é preciso algo mais abstrato, de algo como o tipo Playlist.\n",
    "\n",
    "    Criaremos uma classe com este nome, que terá, além de nome e programa, o tamanho(), função que retornará a quantidade de itens que existem em uma determinada lista de programas, por meio do len()."
   ]
  },
  {
   "cell_type": "code",
   "execution_count": 4,
   "metadata": {},
   "outputs": [],
   "source": [
    "class Playlist:\n",
    "\n",
    "    def __init__(self, nome, programas):\n",
    "        self.nome = nome\n",
    "        self.programas = programas\n",
    "\n",
    "    def tamanho(self):\n",
    "        return len(self.programas)"
   ]
  },
  {
   "cell_type": "markdown",
   "metadata": {},
   "source": [
    "    E para que a playlist seja representada e tenha os itens percorridos, vamos aproveitar filme_e_series, que criamos anteriormente. Antes disso, alteraremos e reordenaremos o trecho com as variáveis vingadores e atlanta.\n",
    "\n",
    "    Acrescentaremos mais um filme e uma série, e duplicaremos vingadores.dar_like() para distribuir os likes entre eles. O código ficará assim:"
   ]
  },
  {
   "cell_type": "code",
   "execution_count": 6,
   "metadata": {},
   "outputs": [],
   "source": [
    "vingadores = Filme('Vingadores - Guerra Infinita', 2018, 160)\n",
    "atlanta = Serie('Atlanta', 2018, 2)\n",
    "tmep = Filme('Todo Mundo em Pânico', 1999, 100)\n",
    "demolidor = Serie('Demolidor', 2016, 2)\n",
    "\n",
    "vingadores.dar_likes()\n",
    "tmep.dar_likes()\n",
    "tmep.dar_likes()\n",
    "tmep.dar_likes()\n",
    "tmep.dar_likes()\n",
    "demolidor.dar_likes()\n",
    "demolidor.dar_likes()\n",
    "atlanta.dar_likes()\n",
    "atlanta.dar_likes()\n",
    "atlanta.dar_likes()"
   ]
  },
  {
   "cell_type": "code",
   "execution_count": 7,
   "metadata": {},
   "outputs": [],
   "source": [
    "filmes_e_series = [vingadores, atlanta, demolidor, tmep]"
   ]
  },
  {
   "cell_type": "markdown",
   "metadata": {},
   "source": [
    "    Criaremos uma playlist chamada de playlist_fim_de_semana, que receberá um objeto do tipo Playlist, que por sua vez tem como parâmetros o nome e a referência de filmes_e_series.\n",
    "\n",
    "    Poderiamos usar algo como for programa in playlist_fim_de_semana, mas se tentarmos percorrer a playlist, receberemos o seguinte erro:\n",
    "\n",
    "            TypeError:'Playlist' object is not iterable\n",
    "\n",
    "    Isto é, Playlist não é iterável, o que é incopatível ao uso do loop(o for in). Da forma como a playlist está modelada no momento, temos acesso a programas e, quando formos percorrer, não o faremos em playlist_fim_de_semana, e sim em playlist_fim_de_semana.programas, pois é necessário conhecermos a estrutura da playlist."
   ]
  },
  {
   "cell_type": "code",
   "execution_count": 8,
   "metadata": {},
   "outputs": [],
   "source": [
    "playlist_fim_de_semana = Playlist('Fim de Semana', filmes_e_series)"
   ]
  },
  {
   "cell_type": "code",
   "execution_count": 9,
   "metadata": {},
   "outputs": [
    {
     "name": "stdout",
     "output_type": "stream",
     "text": [
      "Nome: Vingadores - Guerra Infinita - 160 min - Likes: 1\n",
      "Nome: Atlanta - 2 temporadas - Likes: 3\n",
      "Nome: Demolidor - 2 temporadas - Likes: 2\n",
      "Nome: Todo Mundo Em Pânico - 100 min - Likes: 4\n"
     ]
    }
   ],
   "source": [
    "for programa in filmes_e_series:\n",
    "    print(programa)"
   ]
  },
  {
   "cell_type": "markdown",
   "metadata": {},
   "source": [
    "    Estamos passando para dentro da playlist a variável programas, que está entrando no inicializador, mas este nome não importa muito, podendo ser substituído simplesmente por playlist ou filmes_e_series. A questão é que quando temos programas, precisamos conhecer a parte interna da playlist e saber que ela possui dentro de si uma variável com nome programas.\n",
    "\n",
    "    Caso não soubéssemos este nome, ou se programas fosse privado, como faríamos? Seria estranho, não? Conseguimos fazer a playlist ser percorrida, o que pode ser confirmado ao executarmos a aplicação, mas o código não está da melhor maneira possível, pois temos que chamar programas, que está dentro da playlist.\n",
    "\n",
    "    Em Orientação a Objetos, não é preciso conhecer toda a estrutura interna de um objeto - chamamos este conceito de deixarmos para fora apenas o que queremos que interaja com o mundo externo de encapsulamento. Ou seja, em um objeto, precisamos expor apenas aquilo que queremos que os seus outros clientes acessem, e que faça sentido na interface do objeto ou classe.\n",
    "\n",
    "    Neste caso estamos ferindo um pouco este princípio, pois estamos acessando programas sem nem sabermos direito sobre a sua estrutura interna. Como saberíamos que trata-se de uma lista? E se tivéssemos que utilizar um objeto Playlist que foi criado por outra pessoa...\n",
    "    Seia um problema, não concorda? Já que, idealmente, acessaríamos playlist_fim_de_semana da maneira como fizemos, sem erros.\n",
    "\n",
    "    E se por exemplo usássemos herança para resolvermos este problema?\n",
    "    Como faríamos para que o objeto Playlist seja reconhecido também como um tipo de objeto iteravel, ou algum outro tipo compatível com esta notação do for, que possa ser incluído após o in?\n",
    "\n",
    "    Poderíamos usar um list, um set, ou qualquer outro objeto iterável, a partir do qual poderíamos herdar os comportamentos, fazendo com que a playlist se passe por algum deles... "
   ]
  },
  {
   "cell_type": "code",
   "execution_count": null,
   "metadata": {},
   "outputs": [],
   "source": []
  }
 ],
 "metadata": {
  "interpreter": {
   "hash": "916dbcbb3f70747c44a77c7bcd40155683ae19c65e1c03b4aa3499c5328201f1"
  },
  "kernelspec": {
   "display_name": "Python 3.8.10 64-bit",
   "language": "python",
   "name": "python3"
  },
  "language_info": {
   "codemirror_mode": {
    "name": "ipython",
    "version": 3
   },
   "file_extension": ".py",
   "mimetype": "text/x-python",
   "name": "python",
   "nbconvert_exporter": "python",
   "pygments_lexer": "ipython3",
   "version": "3.8.10"
  },
  "orig_nbformat": 4
 },
 "nbformat": 4,
 "nbformat_minor": 2
}
