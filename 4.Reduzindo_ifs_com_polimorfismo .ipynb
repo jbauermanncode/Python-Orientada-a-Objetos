{
 "cells": [
  {
   "cell_type": "markdown",
   "metadata": {},
   "source": [
    "# Polimorfismo"
   ]
  },
  {
   "cell_type": "markdown",
   "metadata": {},
   "source": [
    "## Playlist de Programas"
   ]
  },
  {
   "cell_type": "code",
   "execution_count": 2,
   "metadata": {},
   "outputs": [],
   "source": [
    "class Programa:\n",
    "    def __init__(self, nome, ano):\n",
    "        self._nome = nome.title()\n",
    "        self.ano = ano\n",
    "        self._likes = 0\n",
    "\n",
    "    @property\n",
    "    def likes(self):\n",
    "        return self._likes\n",
    "\n",
    "    def dar_likes(self):\n",
    "        self._likes += 1\n",
    "\n",
    "    @property\n",
    "    def nome(self):\n",
    "        return self._nome\n",
    "\n",
    "    @nome.setter\n",
    "    def nome(self, nome):\n",
    "        self._nome = nome\n",
    "\n",
    "    def __str__(self):\n",
    "        return f'Nome: {self.nome} Likes: {self.likes}'"
   ]
  },
  {
   "cell_type": "code",
   "execution_count": 30,
   "metadata": {},
   "outputs": [],
   "source": [
    "class Filme(Programa):\n",
    "    def __init__(self, nome, ano, duracao):\n",
    "        super().__init__(nome, ano)\n",
    "        self.duracao = duracao\n",
    "    \n",
    "    def __str__(self):\n",
    "        return f'Nome: {self.nome} - {self.duracao} min - Likes: {self.likes}'"
   ]
  },
  {
   "cell_type": "code",
   "execution_count": 31,
   "metadata": {},
   "outputs": [],
   "source": [
    "class Serie(Programa):\n",
    "    def __init__(self, nome, ano, temporadas):\n",
    "        super().__init__(nome, ano)\n",
    "        self.temporadas = temporadas\n",
    "\n",
    "    def __str__(self):\n",
    "        return f'Nome: {self.nome} - {self.temporadas} temporadas - Likes: {self.likes}'"
   ]
  },
  {
   "cell_type": "code",
   "execution_count": 5,
   "metadata": {},
   "outputs": [],
   "source": [
    "vingadores = Filme('vingadores - guerra infinita', 2018, 160)\n",
    "atlanta = Serie('atlanta', 2018, 2)"
   ]
  },
  {
   "cell_type": "markdown",
   "metadata": {},
   "source": [
    "    Criaremos uma lista no Python, definiremos uma variável qualquer, como filmes_e_series, que guardará a lista, representada por colchetes([])."
   ]
  },
  {
   "cell_type": "code",
   "execution_count": 6,
   "metadata": {},
   "outputs": [],
   "source": [
    "filmes_e_series = [vingadores, atlanta]"
   ]
  },
  {
   "cell_type": "markdown",
   "metadata": {},
   "source": [
    "\n",
    "    Apesar de serem objetos diferentes. O Python é uma linguagem dinâmica, que não se apega aos tipos que se encontram dentro de uma lista ou estrutura específica de dados.\n",
    "\n",
    "    Filme e Serie possuem um relacionamento com a classe mãe, por serem classes filhas.\n",
    "\n",
    "        Uma série é um programa\n",
    "        Um filme também é um programa.\n",
    "        Mas filme e série não tem relacionamento.\n",
    "\n",
    "    Como vantagens, temos que podemos simplesmente imprimir cada item da lista que implementamos anteriormente por meio do for in:"
   ]
  },
  {
   "cell_type": "code",
   "execution_count": 7,
   "metadata": {},
   "outputs": [],
   "source": [
    "filmes_e_series = [vingadores, atlanta]"
   ]
  },
  {
   "cell_type": "code",
   "execution_count": 8,
   "metadata": {},
   "outputs": [
    {
     "ename": "AttributeError",
     "evalue": "'Filme' object has no attribute 'temporadas'",
     "output_type": "error",
     "traceback": [
      "\u001b[0;31m---------------------------------------------------------------------------\u001b[0m",
      "\u001b[0;31mAttributeError\u001b[0m                            Traceback (most recent call last)",
      "\u001b[0;32m/tmp/ipykernel_16512/1465774954.py\u001b[0m in \u001b[0;36m<module>\u001b[0;34m\u001b[0m\n\u001b[1;32m      1\u001b[0m \u001b[0;32mfor\u001b[0m \u001b[0mprograma\u001b[0m \u001b[0;32min\u001b[0m \u001b[0mfilmes_e_series\u001b[0m\u001b[0;34m:\u001b[0m\u001b[0;34m\u001b[0m\u001b[0;34m\u001b[0m\u001b[0m\n\u001b[0;32m----> 2\u001b[0;31m     \u001b[0mprint\u001b[0m\u001b[0;34m(\u001b[0m\u001b[0;34mf'{programa.nome} - {programa.temporadas} : {programa.likes}'\u001b[0m\u001b[0;34m)\u001b[0m\u001b[0;34m\u001b[0m\u001b[0;34m\u001b[0m\u001b[0m\n\u001b[0m",
      "\u001b[0;31mAttributeError\u001b[0m: 'Filme' object has no attribute 'temporadas'"
     ]
    }
   ],
   "source": [
    "for programa in filmes_e_series:\n",
    "    print(f'{programa.nome} - {programa.temporadas} : {programa.likes}')"
   ]
  },
  {
   "cell_type": "markdown",
   "metadata": {},
   "source": [
    "    O erro se da, porque cada tipo possui detalhes próprios, sendo assim criaremos uma variável denominada detalhes. Nela, definiremos o que ela contém, e verificaremos o atributo contido no objeto por meio da função hasattr(), ou has attribute.\n",
    "\n",
    "    Para implementarmos o if em uma única linha, começaremos com o valor que queremos exibir, no caso, programa.duracao, apenas se a duração existir. E então usaremos o hasattr() passando como parâmetros o objeto(o) e o nome que queremos saber se o objeto possui(name).\n",
    "\n",
    "    O if, então, retornará duracao, caso houver. Caso contrário(else), será devolvido programa.temporadas."
   ]
  },
  {
   "cell_type": "code",
   "execution_count": 9,
   "metadata": {},
   "outputs": [],
   "source": [
    "filmes_e_series = [vingadores, atlanta]\n",
    "vingadores.dar_likes()\n",
    "atlanta.dar_likes()"
   ]
  },
  {
   "cell_type": "code",
   "execution_count": 10,
   "metadata": {},
   "outputs": [
    {
     "name": "stdout",
     "output_type": "stream",
     "text": [
      "Vingadores - Guerra Infinita - 160 likes: 1\n",
      "Atlanta - 2 likes: 1\n"
     ]
    }
   ],
   "source": [
    "for programa in filmes_e_series:\n",
    "    detalhes = programa.duracao if hasattr(programa, 'duracao') else programa.temporadas\n",
    "    print(f'{programa.nome} - {detalhes} likes: {programa.likes}')"
   ]
  },
  {
   "cell_type": "markdown",
   "metadata": {},
   "source": [
    "    Polimorfismo se trata de um código que espera uma superclasse, pode receber qualquer classe filha, reduzindo a quantidade de ifs às vezes, pois não precisamos mais verificar o tipo da classe"
   ]
  },
  {
   "cell_type": "markdown",
   "metadata": {},
   "source": [
    "# Reduzindo Ifs"
   ]
  },
  {
   "cell_type": "markdown",
   "metadata": {},
   "source": [
    "    Classe coesa é quando a classe conhece sua responsabilidade com clareza e não faz mais do que aquilo a que se propõe a fazer.\n",
    "\n",
    "    Neste caso tanto Filme quanto Serie devem saber se imprimir de forma usual. Ao imprimirmos uma string, ela sabe como fazê-lo. Mas como isso funciona?\n",
    "\n",
    "    Como a partir de agora só precisamos criar os objetos, e não imprimi-los, deletaremos os print() do trecho do código que lida com as variáveis vingadores e atlanta, deixando-o assim:"
   ]
  },
  {
   "cell_type": "code",
   "execution_count": 5,
   "metadata": {},
   "outputs": [],
   "source": [
    "vingadores = Filme('Vingadores - Guerra Infinita', 2018, 160)\n",
    "vingadores.dar_likes()\n",
    "atlanta = Serie('Atlanta', 2018, 2)\n",
    "atlanta.dar_likes()\n",
    "atlanta.dar_likes() "
   ]
  },
  {
   "cell_type": "markdown",
   "metadata": {},
   "source": [
    "    No Python, existem várias maneiras de imprimir o valor de um objeto. Para fins de exemplo, podemos fazer uma definição em Programa:"
   ]
  },
  {
   "cell_type": "code",
   "execution_count": 27,
   "metadata": {},
   "outputs": [],
   "source": [
    "def imprime(self):\n",
    "    print(f'{self.nome} - {self.ano} - {self.likes} Likes')"
   ]
  },
  {
   "cell_type": "code",
   "execution_count": 1,
   "metadata": {},
   "outputs": [],
   "source": [
    "class Programa:\n",
    "    def __init__(self, nome, ano):\n",
    "        self._nome = nome.title()\n",
    "        self.ano = ano\n",
    "        self._likes = 0\n",
    "\n",
    "    @property\n",
    "    def likes(self):\n",
    "        return self._likes\n",
    "\n",
    "    def dar_likes(self):\n",
    "        self._likes += 1\n",
    "\n",
    "    @property\n",
    "    def nome(self):\n",
    "        return self._nome\n",
    "\n",
    "    @nome.setter\n",
    "    def nome(self, nome):\n",
    "        self._nome = nome\n",
    "\n",
    "    def __str__(self):\n",
    "        return f'Nome: {self.nome} Likes: {self.likes}'\n",
    "\n",
    "    def imprime(self):\n",
    "        print(f'{self.nome} - {self.ano} - {self.likes} Likes')"
   ]
  },
  {
   "cell_type": "code",
   "execution_count": 2,
   "metadata": {},
   "outputs": [],
   "source": [
    "class Filme(Programa):\n",
    "    def __init__(self, nome, ano, duracao):\n",
    "        super().__init__(nome, ano)\n",
    "        self.duracao = duracao\n",
    "    \n",
    "    def __str__(self):\n",
    "        return f'Nome: {self.nome} - {self.duracao} min - Likes: {self.likes}'"
   ]
  },
  {
   "cell_type": "code",
   "execution_count": 3,
   "metadata": {},
   "outputs": [],
   "source": [
    "class Serie(Programa):\n",
    "    def __init__(self, nome, ano, temporadas):\n",
    "        super().__init__(nome, ano)\n",
    "        self.temporadas = temporadas\n",
    "\n",
    "    def __str__(self):\n",
    "        return f'Nome: {self.nome} - {self.temporadas} temporadas - Likes: {self.likes}'"
   ]
  },
  {
   "cell_type": "markdown",
   "metadata": {},
   "source": [
    "    Com isso, mudaremos o fim do código para não precisarmos mais do if que estávamos usando anteriormente, já que usaremos o método imprime():"
   ]
  },
  {
   "cell_type": "code",
   "execution_count": 7,
   "metadata": {},
   "outputs": [
    {
     "name": "stdout",
     "output_type": "stream",
     "text": [
      "Vingadores - Guerra Infinita - 2018 - 1 Likes\n",
      "Atlanta - 2018 - 2 Likes\n"
     ]
    }
   ],
   "source": [
    "filmes_e_series = [vingadores, atlanta]\n",
    "for programa in filmes_e_series:\n",
    "    programa.imprime()"
   ]
  },
  {
   "cell_type": "markdown",
   "metadata": {},
   "source": [
    "    Para imprimirmos o dado de um programa genérico não poderemos herdar este comportamento de imprime() do Programa. Teremos que definir um método para cada uma das classes filhas.\n",
    "\n",
    "    Faremos uma sobrescrita de imprime() da classe mãe, porque não queremos utilizálo. No caso de Filme, incluiremos portanto duracao."
   ]
  },
  {
   "cell_type": "code",
   "execution_count": 8,
   "metadata": {},
   "outputs": [],
   "source": [
    "class Filme(Programa):\n",
    "    def __init__(self, nome, ano, duracao):\n",
    "        super().__init__(nome, ano)\n",
    "        self.duracao = duracao\n",
    "\n",
    "    def imprime(self):\n",
    "        print(f'{self.nome} - {self.ano} - {self.duracao} min {self.likes} Likes')\n",
    "    \n",
    "    def __str__(self):\n",
    "        return f'Nome: {self.nome} - {self.duracao} min - Likes: {self.likes}'"
   ]
  },
  {
   "cell_type": "markdown",
   "metadata": {},
   "source": [
    "    E para Serie aplicaremos temporadas."
   ]
  },
  {
   "cell_type": "code",
   "execution_count": 9,
   "metadata": {},
   "outputs": [],
   "source": [
    "class Serie(Programa):\n",
    "    def __init__(self, nome, ano, temporadas):\n",
    "        super().__init__(nome, ano)\n",
    "        self.temporadas = temporadas\n",
    "\n",
    "    def imprime(self):\n",
    "        print(f'{self.nome} - {self.ano} - {self.temporadas} temporadas {self.likes} Likes')\n",
    "\n",
    "    def __str__(self):\n",
    "        return f'Nome: {self.nome} - {self.temporadas} temporadas - Likes: {self.likes}'"
   ]
  },
  {
   "cell_type": "markdown",
   "metadata": {},
   "source": [
    "# Representação Textual de Objetos"
   ]
  },
  {
   "cell_type": "markdown",
   "metadata": {},
   "source": [
    "    Alguns métodos no Python são especiais, ou dunder methods, como costumam chamar. Dunder vem de double underscore, isto é, \"dois underlines\". Um exemplo de método especial é o nosso __init__() que, ao ser definido, o Python sabe, por convenção, que ele é o inicializador de uma classe na criação de um objeto.\n",
    "\n",
    "    Um método especila capaz de representar um objeto textualmente é chamado de __str__(), ou dunder str, ou ainda \"str especial\".\n",
    "\n",
    "    Quando definimos esta função, não é possível simplesmente fazermos um print() nela, pois é esperado que se retorne um valor como string, que represente o objeto desejado. O trecho de código seria:"
   ]
  },
  {
   "cell_type": "code",
   "execution_count": 11,
   "metadata": {},
   "outputs": [],
   "source": [
    "def __str__(self):\n",
    "    return f'{self._nome} - {self.ano} - {self._likes} Likes'"
   ]
  },
  {
   "cell_type": "markdown",
   "metadata": {},
   "source": [
    "    Vamos substituir os imprime(self) por __str__(self) e, como deixamos de ter a função imprime(). Em todos os lugares em que usamos print(), trocaremos por return"
   ]
  },
  {
   "cell_type": "code",
   "execution_count": 12,
   "metadata": {},
   "outputs": [],
   "source": [
    "class Programa:\n",
    "    def __init__(self, nome, ano):\n",
    "        self._nome = nome.title()\n",
    "        self.ano = ano\n",
    "        self._likes = 0\n",
    "\n",
    "    @property\n",
    "    def likes(self):\n",
    "        return self._likes\n",
    "\n",
    "    def dar_likes(self):\n",
    "        self._likes += 1\n",
    "\n",
    "    @property\n",
    "    def nome(self):\n",
    "        return self._nome\n",
    "\n",
    "    @nome.setter\n",
    "    def nome(self, nome):\n",
    "        self._nome = nome\n",
    "\n",
    "    def __str__(self):\n",
    "        return f'Nome: {self.nome} Likes: {self.likes}'\n",
    "\n",
    "    def __str__(self):\n",
    "        return f'{self.nome} - {self.ano} - {self.likes} Likes'"
   ]
  },
  {
   "cell_type": "code",
   "execution_count": 13,
   "metadata": {},
   "outputs": [],
   "source": [
    "class Filme(Programa):\n",
    "    def __init__(self, nome, ano, duracao):\n",
    "        super().__init__(nome, ano)\n",
    "        self.duracao = duracao\n",
    "\n",
    "    def __str__(self):\n",
    "        return f'{self.nome} - {self.ano} - {self.duracao} min {self.likes} Likes'\n",
    "    \n",
    "    def __str__(self):\n",
    "        return f'Nome: {self.nome} - {self.duracao} min - Likes: {self.likes}'"
   ]
  },
  {
   "cell_type": "code",
   "execution_count": 14,
   "metadata": {},
   "outputs": [],
   "source": [
    "class Serie(Programa):\n",
    "    def __init__(self, nome, ano, temporadas):\n",
    "        super().__init__(nome, ano)\n",
    "        self.temporadas = temporadas\n",
    "\n",
    "    def __str__(self):\n",
    "        return f'{self.nome} - {self.ano} - {self.temporadas} temporadas {self.likes} Likes'\n",
    "\n",
    "    def __str__(self):\n",
    "        return f'Nome: {self.nome} - {self.temporadas} temporadas - Likes: {self.likes}'"
   ]
  },
  {
   "cell_type": "code",
   "execution_count": 16,
   "metadata": {},
   "outputs": [
    {
     "name": "stdout",
     "output_type": "stream",
     "text": [
      "Nome: Vingadores - Guerra Infinita - 160 min - Likes: 1\n",
      "Nome: Atlanta - 2 temporadas - Likes: 2\n"
     ]
    }
   ],
   "source": [
    "filmes_e_series = [vingadores, atlanta]\n",
    "for programa in filmes_e_series:\n",
    "    print(programa.__str__())"
   ]
  },
  {
   "cell_type": "code",
   "execution_count": null,
   "metadata": {},
   "outputs": [],
   "source": []
  }
 ],
 "metadata": {
  "interpreter": {
   "hash": "916dbcbb3f70747c44a77c7bcd40155683ae19c65e1c03b4aa3499c5328201f1"
  },
  "kernelspec": {
   "display_name": "Python 3.8.10 64-bit",
   "language": "python",
   "name": "python3"
  },
  "language_info": {
   "codemirror_mode": {
    "name": "ipython",
    "version": 3
   },
   "file_extension": ".py",
   "mimetype": "text/x-python",
   "name": "python",
   "nbconvert_exporter": "python",
   "pygments_lexer": "ipython3",
   "version": "3.8.10"
  },
  "orig_nbformat": 4
 },
 "nbformat": 4,
 "nbformat_minor": 2
}
