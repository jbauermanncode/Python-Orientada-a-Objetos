{
 "cells": [
  {
   "cell_type": "markdown",
   "metadata": {},
   "source": [
    "# Exemplo Retângulo"
   ]
  },
  {
   "cell_type": "code",
   "execution_count": 1,
   "metadata": {},
   "outputs": [],
   "source": [
    "class Retangulo:\n",
    "    lado_a = None\n",
    "    lado_b = None\n",
    "\n",
    "    def __init__(self, lado_a, lado_b):\n",
    "        self.lado_a = lado_a\n",
    "        self.lado_b = lado_b\n",
    "        print('Criada uma nova instância Retangulo')\n",
    "\n",
    "    def calcula_area(self):\n",
    "        return self.lado_a * self.lado_b\n",
    "\n",
    "    def calcula_perimetro(self):\n",
    "        return 2 * self.lado_a  + 2 * self.lado_b"
   ]
  },
  {
   "cell_type": "code",
   "execution_count": 2,
   "metadata": {},
   "outputs": [
    {
     "name": "stdout",
     "output_type": "stream",
     "text": [
      "Criada uma nova instância Retangulo\n"
     ]
    }
   ],
   "source": [
    "obj = Retangulo(4,6)"
   ]
  },
  {
   "cell_type": "code",
   "execution_count": 3,
   "metadata": {},
   "outputs": [
    {
     "data": {
      "text/plain": [
       "4"
      ]
     },
     "execution_count": 3,
     "metadata": {},
     "output_type": "execute_result"
    }
   ],
   "source": [
    "obj.lado_a"
   ]
  },
  {
   "cell_type": "code",
   "execution_count": 4,
   "metadata": {},
   "outputs": [
    {
     "data": {
      "text/plain": [
       "6"
      ]
     },
     "execution_count": 4,
     "metadata": {},
     "output_type": "execute_result"
    }
   ],
   "source": [
    "obj.lado_b"
   ]
  },
  {
   "cell_type": "code",
   "execution_count": 5,
   "metadata": {},
   "outputs": [
    {
     "data": {
      "text/plain": [
       "24"
      ]
     },
     "execution_count": 5,
     "metadata": {},
     "output_type": "execute_result"
    }
   ],
   "source": [
    "obj.calcula_area()"
   ]
  },
  {
   "cell_type": "code",
   "execution_count": 6,
   "metadata": {},
   "outputs": [
    {
     "data": {
      "text/plain": [
       "20"
      ]
     },
     "execution_count": 6,
     "metadata": {},
     "output_type": "execute_result"
    }
   ],
   "source": [
    "obj.calcula_perimetro()"
   ]
  },
  {
   "cell_type": "markdown",
   "metadata": {},
   "source": [
    "# Exemplo Conta Corrente"
   ]
  },
  {
   "cell_type": "code",
   "execution_count": 21,
   "metadata": {},
   "outputs": [],
   "source": [
    "class ContaCorrente:\n",
    "    def __init__(self,numero):\n",
    "        self.numero = numero\n",
    "        self.saldo = 0.0\n",
    "\n",
    "    def debitar(self, valor):\n",
    "        self.saldo = self.saldo - valor\n",
    "\n",
    "    def creditar(self, valor):\n",
    "        self.saldo = self.saldo + valor"
   ]
  },
  {
   "cell_type": "code",
   "execution_count": 22,
   "metadata": {},
   "outputs": [
    {
     "data": {
      "text/plain": [
       "0.0"
      ]
     },
     "execution_count": 22,
     "metadata": {},
     "output_type": "execute_result"
    }
   ],
   "source": [
    "c = ContaCorrente('1234')\n",
    "c.saldo"
   ]
  },
  {
   "cell_type": "code",
   "execution_count": 23,
   "metadata": {},
   "outputs": [
    {
     "data": {
      "text/plain": [
       "1000.0"
      ]
     },
     "execution_count": 23,
     "metadata": {},
     "output_type": "execute_result"
    }
   ],
   "source": [
    "c.creditar(1000)\n",
    "c.saldo"
   ]
  },
  {
   "cell_type": "code",
   "execution_count": 24,
   "metadata": {},
   "outputs": [],
   "source": [
    "c.debitar(342)\n"
   ]
  },
  {
   "cell_type": "code",
   "execution_count": 25,
   "metadata": {},
   "outputs": [
    {
     "name": "stdout",
     "output_type": "stream",
     "text": [
      "Conta: 1234\n",
      " Saldo: 658.00\n"
     ]
    }
   ],
   "source": [
    "print(f'Conta: {c.numero}\\n Saldo: {c.saldo:.2f}')"
   ]
  },
  {
   "cell_type": "markdown",
   "metadata": {},
   "source": [
    "# Exemplo Pessoa"
   ]
  },
  {
   "cell_type": "code",
   "execution_count": 36,
   "metadata": {},
   "outputs": [],
   "source": [
    "class Pessoa:\n",
    "    nome = None\n",
    "    idade = None\n",
    "\n",
    "    def __init__(self,nome,idade):\n",
    "        self.nome = nome\n",
    "        self.idade = idade\n",
    "\n",
    "    def getAnoNascimento(self, anoAtual):\n",
    "            return anoAtual - self.idade\n",
    "\n",
    "        "
   ]
  },
  {
   "cell_type": "code",
   "execution_count": 40,
   "metadata": {},
   "outputs": [],
   "source": [
    "pessoa = Pessoa('Pedro', 22)\n"
   ]
  },
  {
   "cell_type": "code",
   "execution_count": 41,
   "metadata": {},
   "outputs": [
    {
     "name": "stdout",
     "output_type": "stream",
     "text": [
      "2000\n"
     ]
    }
   ],
   "source": [
    "print(pessoa.getAnoNascimento(2022))"
   ]
  },
  {
   "cell_type": "markdown",
   "metadata": {},
   "source": [
    "# Exemplo Automovel"
   ]
  },
  {
   "cell_type": "code",
   "execution_count": 48,
   "metadata": {},
   "outputs": [],
   "source": [
    "class Automovel:\n",
    "\n",
    "    def __init__(self, placa='XX-123'):\n",
    "        self.placa = placa\n",
    "\n",
    "    def get_placa(self):\n",
    "        return self.placa\n",
    "\n",
    "    def dirigir(self, velocidade):\n",
    "        print('Estou dirigindo a %d km/h' % velocidade)"
   ]
  },
  {
   "cell_type": "code",
   "execution_count": 49,
   "metadata": {},
   "outputs": [],
   "source": [
    "auto = Automovel()"
   ]
  },
  {
   "cell_type": "code",
   "execution_count": 50,
   "metadata": {},
   "outputs": [
    {
     "data": {
      "text/plain": [
       "'XX-123'"
      ]
     },
     "execution_count": 50,
     "metadata": {},
     "output_type": "execute_result"
    }
   ],
   "source": [
    "auto.get_placa()"
   ]
  },
  {
   "cell_type": "code",
   "execution_count": 51,
   "metadata": {},
   "outputs": [
    {
     "name": "stdout",
     "output_type": "stream",
     "text": [
      "Estou dirigindo a 80 km/h\n"
     ]
    }
   ],
   "source": [
    "auto.dirigir(80)"
   ]
  },
  {
   "cell_type": "markdown",
   "metadata": {},
   "source": [
    "# Exemplos"
   ]
  },
  {
   "cell_type": "code",
   "execution_count": 1,
   "metadata": {},
   "outputs": [],
   "source": [
    "# calcular a média de horas dormidas na semana\n",
    "\n",
    "class HorasDormidas:\n",
    "\n",
    "    segunda = None\n",
    "    terca = None\n",
    "    quarta = None\n",
    "    quinta = None\n",
    "    sexta = None\n",
    "    sabado = None\n",
    "    domingo = None\n",
    "\n",
    "    def __init__(self, segunda, terca, quarta, quinta, sexta, sabado, domingo):\n",
    "\n",
    "        self.segunda = segunda\n",
    "        self.terca = terca\n",
    "        self.quarta = quarta\n",
    "        self.quinta = quinta\n",
    "        self.sexta = sexta\n",
    "        self.sabado = sabado\n",
    "        self.domingo = domingo\n",
    "\n",
    "    def calculaMedia(self):\n",
    "        return (self.segunda + \n",
    "                self.terca + \n",
    "                self.quarta + \n",
    "                self.quinta + \n",
    "                self.sexta + \n",
    "                self.sabado + \n",
    "                self.domingo) / 7"
   ]
  },
  {
   "cell_type": "code",
   "execution_count": 4,
   "metadata": {},
   "outputs": [
    {
     "data": {
      "text/plain": [
       "6.428571428571429"
      ]
     },
     "execution_count": 4,
     "metadata": {},
     "output_type": "execute_result"
    }
   ],
   "source": [
    "h = HorasDormidas(7, 8, 6, 0, 7, 7, 10)\n",
    "h.calculaMedia()"
   ]
  },
  {
   "cell_type": "markdown",
   "metadata": {},
   "source": [
    "    4. Implemente uma classe Aluno, que deve ter os seguintes atributos:\n",
    "        * nome\n",
    "        * curso\n",
    "        * tempo_sem_dormir\n",
    "       Essa classe deverá ter os seguintes métodos:\n",
    "        - estudar (que recebe como parâmetro a quantidade de horas de estudo e acrescenta tempo sem dormir)\n",
    "        - dormir (que recebe como parâmetro a quantidade de horas de sono e reduz o tempo de dormir)\n",
    "\n",
    "       Crie um código de teste da classe, criando um objeto da classe aluno e usando os métodos estudar e\n",
    "       dormir. Ao final imprima quanto tempo o aluno está sem dormir. "
   ]
  },
  {
   "cell_type": "code",
   "execution_count": 1,
   "metadata": {},
   "outputs": [],
   "source": [
    "class Aluno:\n",
    "\n",
    "    def __init__(self, nome, curso):\n",
    "        self.nome = nome\n",
    "        self.curso = curso\n",
    "        self.tempo_sem_dormir = 0\n",
    "\n",
    "    def estudar(self, qtd_de_estudo):\n",
    "        self.tempo_sem_dormir = qtd_de_estudo + self.tempo_sem_dormir\n",
    "        return self.tempo_sem_dormir\n",
    "\n",
    "    def dormir(self, qtd_de_sono):\n",
    "        return self.tempo_sem_dormir - qtd_de_sono"
   ]
  },
  {
   "cell_type": "code",
   "execution_count": 2,
   "metadata": {},
   "outputs": [
    {
     "data": {
      "text/plain": [
       "5"
      ]
     },
     "execution_count": 2,
     "metadata": {},
     "output_type": "execute_result"
    }
   ],
   "source": [
    "aluno = Aluno('Joaquim', 'Matemática')\n",
    "aluno.estudar(10)\n",
    "aluno.dormir(5)"
   ]
  },
  {
   "cell_type": "code",
   "execution_count": null,
   "metadata": {},
   "outputs": [],
   "source": []
  }
 ],
 "metadata": {
  "interpreter": {
   "hash": "916dbcbb3f70747c44a77c7bcd40155683ae19c65e1c03b4aa3499c5328201f1"
  },
  "kernelspec": {
   "display_name": "Python 3.8.10 64-bit",
   "language": "python",
   "name": "python3"
  },
  "language_info": {
   "codemirror_mode": {
    "name": "ipython",
    "version": 3
   },
   "file_extension": ".py",
   "mimetype": "text/x-python",
   "name": "python",
   "nbconvert_exporter": "python",
   "pygments_lexer": "ipython3",
   "version": "3.8.10"
  },
  "orig_nbformat": 4
 },
 "nbformat": 4,
 "nbformat_minor": 2
}
